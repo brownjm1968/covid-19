{
 "cells": [
  {
   "cell_type": "code",
   "execution_count": 2,
   "metadata": {},
   "outputs": [],
   "source": [
    "import numpy as np\n",
    "import pandas as pd\n",
    "import time\n",
    "from matplotlib.pyplot import *"
   ]
  },
  {
   "cell_type": "code",
   "execution_count": 8,
   "metadata": {},
   "outputs": [],
   "source": [
    "%matplotlib notebook"
   ]
  },
  {
   "cell_type": "markdown",
   "metadata": {},
   "source": [
    "### NY-Times posted a county-by-county dataset on reported COVID-19 cases https://github.com/nytimes/covid-19-data"
   ]
  },
  {
   "cell_type": "markdown",
   "metadata": {},
   "source": [
    "### Census.gov posts county data to match the FIPS in the NY-Times dataset to lat and long https://www.census.gov/cgi-bin/geo/shapefiles/index.php?year=2016&layergroup=Blocks+%282010%29"
   ]
  },
  {
   "cell_type": "code",
   "execution_count": 9,
   "metadata": {
    "scrolled": false
   },
   "outputs": [],
   "source": [
    "data_fold = '/Users/jesse/data/'\n",
    "covid = pd.read_csv('../covid-19-data/us-counties.csv')\n",
    "covid['latitude'] = 0.0\n",
    "covid['longitude'] = 0.0\n",
    "\n",
    "county_names = ['USPS','GEOID','ANSICODE','NAME','ALAND','AWATER','ALAND_SQMI','AWATER_SQMI','INTPTLAT','INTPTLONG']\n",
    "county = pd.read_csv(data_fold+'covid-19/2019_Gaz_counties_national.txt',delimiter='\\t',names=county_names,skiprows=1)\n"
   ]
  },
  {
   "cell_type": "code",
   "execution_count": 10,
   "metadata": {},
   "outputs": [
    {
     "name": "stdout",
     "output_type": "stream",
     "text": [
      "Time required: 13.9429 seconds\n"
     ]
    }
   ],
   "source": [
    "start = time.time()\n",
    "for i,FIPS in enumerate(county.GEOID):\n",
    "    covid.loc[covid.fips.isin([FIPS]),'latitude'] = county.INTPTLAT[i]\n",
    "    covid.loc[covid.fips.isin([FIPS]),'longitude'] = county.INTPTLONG[i]\n",
    "end = time.time()\n",
    "print('Time required: {:.4f} seconds'.format(end-start))"
   ]
  },
  {
   "cell_type": "code",
   "execution_count": 11,
   "metadata": {},
   "outputs": [],
   "source": [
    "covid.loc[covid.county.isin(['New York City']),'latitude'] = 40.7128\n",
    "covid.loc[covid.county.isin(['New York City']),'longitude'] = -74.0060\n",
    "covid.loc[covid.county.isin(['Kansas City']),'latitude'] = 39.0997\n",
    "covid.loc[covid.county.isin(['Kansas City']),'longitude'] = -94.5786\n",
    "covid.loc[covid.county.isin(['Doña Ana']),'latitude'] = 32.349919\n",
    "covid.loc[covid.county.isin(['Doña Ana']),'longitude'] = -106.834968"
   ]
  },
  {
   "cell_type": "code",
   "execution_count": 12,
   "metadata": {
    "scrolled": false
   },
   "outputs": [
    {
     "name": "stdout",
     "output_type": "stream",
     "text": [
      "Empty DataFrame\n",
      "Columns: [date, county, state, fips, cases, deaths, latitude, longitude]\n",
      "Index: []\n"
     ]
    }
   ],
   "source": [
    "#print(covid)\n",
    "# This shouldn't print anything if we matched all the data with new geo data\n",
    "print(covid[(covid.latitude == 0.0) & (covid.county != 'Unknown')])\n",
    "covid.to_csv('covid19-withGeo.dat',index=False)"
   ]
  },
  {
   "cell_type": "code",
   "execution_count": null,
   "metadata": {},
   "outputs": [],
   "source": []
  }
 ],
 "metadata": {
  "kernelspec": {
   "display_name": "Python 3",
   "language": "python",
   "name": "python3"
  },
  "language_info": {
   "codemirror_mode": {
    "name": "ipython",
    "version": 3
   },
   "file_extension": ".py",
   "mimetype": "text/x-python",
   "name": "python",
   "nbconvert_exporter": "python",
   "pygments_lexer": "ipython3",
   "version": "3.6.4"
  }
 },
 "nbformat": 4,
 "nbformat_minor": 2
}
