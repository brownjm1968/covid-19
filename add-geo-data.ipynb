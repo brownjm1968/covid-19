{
 "cells": [
  {
   "cell_type": "code",
   "execution_count": 1,
   "metadata": {},
   "outputs": [],
   "source": [
    "import numpy as np\n",
    "import pandas as pd\n",
    "import time\n",
    "from matplotlib.pyplot import *"
   ]
  },
  {
   "cell_type": "code",
   "execution_count": 2,
   "metadata": {},
   "outputs": [],
   "source": [
    "%matplotlib notebook"
   ]
  },
  {
   "cell_type": "markdown",
   "metadata": {},
   "source": [
    "### NY-Times posted a county-by-county dataset on reported COVID-19 cases https://github.com/nytimes/covid-19-data"
   ]
  },
  {
   "cell_type": "markdown",
   "metadata": {},
   "source": [
    "### Census.gov posts county data to match the FIPS in the NY-Times dataset to lat and long https://www.census.gov/cgi-bin/geo/shapefiles/index.php?year=2016&layergroup=Blocks+%282010%29"
   ]
  },
  {
   "cell_type": "code",
   "execution_count": 3,
   "metadata": {},
   "outputs": [],
   "source": [
    "us_state_abbrev = {'Alabama': 'AL','Alaska': 'AK','American Samoa': 'AS','Arizona': 'AZ','Arkansas': 'AR','California': 'CA','Colorado': 'CO','Connecticut': 'CT','Delaware': 'DE','District of Columbia': 'DC','Florida': 'FL','Georgia': 'GA','Guam': 'GU','Hawaii': 'HI','Idaho': 'ID','Illinois': 'IL','Indiana': 'IN','Iowa': 'IA','Kansas': 'KS','Kentucky': 'KY','Louisiana': 'LA','Maine': 'ME','Maryland': 'MD','Massachusetts': 'MA','Michigan': 'MI','Minnesota': 'MN','Mississippi': 'MS','Missouri': 'MO','Montana': 'MT','Nebraska': 'NE','Nevada': 'NV','New Hampshire': 'NH','New Jersey': 'NJ','New Mexico': 'NM','New York': 'NY','North Carolina': 'NC','North Dakota': 'ND','Northern Mariana Islands':'MP','Ohio': 'OH','Oklahoma': 'OK','Oregon': 'OR','Pennsylvania': 'PA','Puerto Rico': 'PR','Rhode Island': 'RI','South Carolina': 'SC','South Dakota': 'SD','Tennessee': 'TN','Texas': 'TX','Utah': 'UT','Vermont': 'VT','Virgin Islands': 'VI','Virginia': 'VA','Washington': 'WA','West Virginia': 'WV','Wisconsin': 'WI','Wyoming': 'WY' }\n",
    "\n"
   ]
  },
  {
   "cell_type": "code",
   "execution_count": 4,
   "metadata": {
    "scrolled": false
   },
   "outputs": [],
   "source": [
    "data_fold = '/Users/jesse/data/'\n",
    "covid = pd.read_csv('../covid-19-data/us-counties.csv')\n",
    "covid['latitude'] = 0.0\n",
    "covid['longitude'] = 0.0\n",
    "\n",
    "county_names = ['USPS','GEOID','ANSICODE','NAME','ALAND','AWATER','ALAND_SQMI','AWATER_SQMI','INTPTLAT','INTPTLONG']\n",
    "county = pd.read_csv(data_fold+'covid-19/2019_Gaz_counties_national.txt',delimiter='\\t',names=county_names,skiprows=1)\n"
   ]
  },
  {
   "cell_type": "code",
   "execution_count": 5,
   "metadata": {},
   "outputs": [
    {
     "name": "stdout",
     "output_type": "stream",
     "text": [
      "Time required: 13.0886 seconds\n"
     ]
    }
   ],
   "source": [
    "start = time.time()\n",
    "for i,FIPS in enumerate(county.GEOID):\n",
    "    covid.loc[covid.fips.isin([FIPS]),'latitude'] = county.INTPTLAT[i]\n",
    "    covid.loc[covid.fips.isin([FIPS]),'longitude'] = county.INTPTLONG[i]\n",
    "end = time.time()\n",
    "print('Time required: {:.4f} seconds'.format(end-start))"
   ]
  },
  {
   "cell_type": "code",
   "execution_count": 6,
   "metadata": {},
   "outputs": [],
   "source": [
    "covid.loc[covid.county.isin(['New York City']),'latitude'] = 40.7128\n",
    "covid.loc[covid.county.isin(['New York City']),'longitude'] = -74.0060\n",
    "covid.loc[covid.county.isin(['Kansas City']),'latitude'] = 39.0997\n",
    "covid.loc[covid.county.isin(['Kansas City']),'longitude'] = -94.5786\n",
    "covid.loc[covid.county.isin(['Doña Ana']),'latitude'] = 32.349919\n",
    "covid.loc[covid.county.isin(['Doña Ana']),'longitude'] = -106.834968"
   ]
  },
  {
   "cell_type": "code",
   "execution_count": 8,
   "metadata": {
    "scrolled": false
   },
   "outputs": [],
   "source": [
    "#print(covid)\n",
    "print(covid[(covid.latitude == 0.0) & (covid.county != 'Unknown')])\n",
    "covid.to_csv('covid19-withGeo.dat')"
   ]
  },
  {
   "cell_type": "code",
   "execution_count": null,
   "metadata": {},
   "outputs": [],
   "source": []
  }
 ],
 "metadata": {
  "kernelspec": {
   "display_name": "Python 3",
   "language": "python",
   "name": "python3"
  },
  "language_info": {
   "codemirror_mode": {
    "name": "ipython",
    "version": 3
   },
   "file_extension": ".py",
   "mimetype": "text/x-python",
   "name": "python",
   "nbconvert_exporter": "python",
   "pygments_lexer": "ipython3",
   "version": "3.6.4"
  }
 },
 "nbformat": 4,
 "nbformat_minor": 2
}
