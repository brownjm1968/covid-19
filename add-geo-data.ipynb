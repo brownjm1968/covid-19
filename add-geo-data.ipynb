{
 "cells": [
  {
   "cell_type": "code",
   "execution_count": 1,
   "metadata": {},
   "outputs": [],
   "source": [
    "import numpy as np\n",
    "import pandas as pd\n",
    "import time\n",
    "from matplotlib.pyplot import *"
   ]
  },
  {
   "cell_type": "code",
   "execution_count": 2,
   "metadata": {},
   "outputs": [],
   "source": [
    "%matplotlib notebook"
   ]
  },
  {
   "cell_type": "markdown",
   "metadata": {},
   "source": [
    "### NY-Times posted a county-by-county dataset on reported COVID-19 cases https://github.com/nytimes/covid-19-data"
   ]
  },
  {
   "cell_type": "markdown",
   "metadata": {},
   "source": [
    "### Census.gov posts county data to match the FIPS in the NY-Times dataset to lat and long https://www.census.gov/cgi-bin/geo/shapefiles/index.php?year=2016&layergroup=Blocks+%282010%29"
   ]
  },
  {
   "cell_type": "code",
   "execution_count": 3,
   "metadata": {
    "scrolled": false
   },
   "outputs": [],
   "source": [
    "data_fold = '/Users/jesse/data/'\n",
    "covid = pd.read_csv('../covid-19-data/us-counties.csv')\n",
    "covid['latitude'] = 0.0\n",
    "covid['longitude'] = 0.0\n",
    "\n",
    "county_names = ['USPS','GEOID','ANSICODE','NAME','ALAND','AWATER','ALAND_SQMI','AWATER_SQMI','INTPTLAT','INTPTLONG']\n",
    "county = pd.read_csv(data_fold+'covid-19/2019_Gaz_counties_national.txt',delimiter='\\t',names=county_names,skiprows=1)\n"
   ]
  },
  {
   "cell_type": "code",
   "execution_count": 4,
   "metadata": {},
   "outputs": [
    {
     "name": "stdout",
     "output_type": "stream",
     "text": [
      "Time required: 70.9993 seconds\n"
     ]
    }
   ],
   "source": [
    "start = time.time()\n",
    "for i,FIPS in enumerate(county.GEOID):\n",
    "    covid.loc[covid.fips.isin([FIPS]),'latitude'] = county.INTPTLAT[i]\n",
    "    covid.loc[covid.fips.isin([FIPS]),'longitude'] = county.INTPTLONG[i]\n",
    "end = time.time()\n",
    "print('Time required: {:.4f} seconds'.format(end-start))"
   ]
  },
  {
   "cell_type": "code",
   "execution_count": 5,
   "metadata": {},
   "outputs": [],
   "source": [
    "covid.loc[covid.county.isin(['New York City']),'latitude'] = 40.7128\n",
    "covid.loc[covid.county.isin(['New York City']),'longitude'] = -74.0060\n",
    "covid.loc[covid.county.isin(['Kansas City']),'latitude'] = 39.0997\n",
    "covid.loc[covid.county.isin(['Kansas City']),'longitude'] = -94.5786\n",
    "covid.loc[covid.county.isin(['Doña Ana']),'latitude'] = 32.349919\n",
    "covid.loc[covid.county.isin(['Doña Ana']),'longitude'] = -106.834968"
   ]
  },
  {
   "cell_type": "code",
   "execution_count": 6,
   "metadata": {
    "scrolled": false
   },
   "outputs": [
    {
     "name": "stdout",
     "output_type": "stream",
     "text": [
      "              date      county                     state     fips  cases  \\\n",
      "37818   2020-04-06   St. Croix            Virgin Islands  78010.0     13   \n",
      "37819   2020-04-06    St. John            Virgin Islands  78020.0      2   \n",
      "37820   2020-04-06  St. Thomas            Virgin Islands  78030.0     29   \n",
      "40348   2020-04-07   St. Croix            Virgin Islands  78010.0     14   \n",
      "40349   2020-04-07    St. John            Virgin Islands  78020.0      2   \n",
      "...            ...         ...                       ...      ...    ...   \n",
      "867404  2020-12-26      Saipan  Northern Mariana Islands  69110.0    120   \n",
      "867405  2020-12-26      Tinian  Northern Mariana Islands  69120.0      2   \n",
      "868267  2020-12-26   St. Croix            Virgin Islands  78010.0    809   \n",
      "868268  2020-12-26    St. John            Virgin Islands  78020.0    166   \n",
      "868269  2020-12-26  St. Thomas            Virgin Islands  78030.0   1004   \n",
      "\n",
      "        deaths  latitude  longitude  \n",
      "37818      0.0       0.0        0.0  \n",
      "37819      0.0       0.0        0.0  \n",
      "37820      0.0       0.0        0.0  \n",
      "40348      0.0       0.0        0.0  \n",
      "40349      0.0       0.0        0.0  \n",
      "...        ...       ...        ...  \n",
      "867404     2.0       0.0        0.0  \n",
      "867405     0.0       0.0        0.0  \n",
      "868267     7.0       0.0        0.0  \n",
      "868268     1.0       0.0        0.0  \n",
      "868269    15.0       0.0        0.0  \n",
      "\n",
      "[1312 rows x 8 columns]\n"
     ]
    }
   ],
   "source": [
    "#print(covid)\n",
    "# This shouldn't print anything if we matched all the data with new geo data\n",
    "print(covid[(covid.latitude == 0.0) & (covid.county != 'Unknown')])\n",
    "covid.to_csv('covid19-withGeo.dat',index=False)"
   ]
  },
  {
   "cell_type": "code",
   "execution_count": null,
   "metadata": {},
   "outputs": [],
   "source": []
  },
  {
   "cell_type": "code",
   "execution_count": null,
   "metadata": {},
   "outputs": [],
   "source": []
  }
 ],
 "metadata": {
  "kernelspec": {
   "display_name": "Python 3",
   "language": "python",
   "name": "python3"
  },
  "language_info": {
   "codemirror_mode": {
    "name": "ipython",
    "version": 3
   },
   "file_extension": ".py",
   "mimetype": "text/x-python",
   "name": "python",
   "nbconvert_exporter": "python",
   "pygments_lexer": "ipython3",
   "version": "3.9.1"
  }
 },
 "nbformat": 4,
 "nbformat_minor": 2
}
